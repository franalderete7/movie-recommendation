{
 "cells": [
  {
   "cell_type": "markdown",
   "metadata": {},
   "source": [
    "# Proyecto 6: Sistemas de recomendación"
   ]
  },
  {
   "cell_type": "markdown",
   "metadata": {},
   "source": [
    "## Dataset"
   ]
  },
  {
   "cell_type": "markdown",
   "metadata": {},
   "source": [
    "El dataset que vamos a usar en este proyecto es el del proyecto [MovieLens](http://grouplens.org/datasets/movielens/). Estos son relevados por el grupo de investigación GroupLens de la Universidad de Minnesota. Vamos a usar la versión 100K."
   ]
  },
  {
   "cell_type": "markdown",
   "metadata": {},
   "source": [
    "Está basado en un sistema de rating de 5 estrellas y texto libre para tags a partir del servicio de recomendaciones MovieLens. Contiene 100.000 ratings para 1.682 películas. Los datos fueron creados por 943 usuarios."
   ]
  },
  {
   "cell_type": "markdown",
   "metadata": {},
   "source": [
    "En el [Readme](http://files.grouplens.org/datasets/movielens/ml-100k-README.txt) del dataset se puede encontrar información adicional. A continuación vamos a describir cada uno de ellos."
   ]
  },
  {
   "cell_type": "markdown",
   "metadata": {},
   "source": [
    "### Ratings (u.data)\n",
    "\n",
    "Cada línea representa el rating para una película para un usuario. Los ratings están basados en un sistema de 5 estrellas, con una salto de 0.5 estrellas. Los timestamps están expresados en segundos desde la medianoche de 01/1970 (UTC). El formato es:\n",
    "\n",
    "`user id | item id | rating | timestamp`"
   ]
  },
  {
   "cell_type": "markdown",
   "metadata": {},
   "source": [
    "### Usuarios (u.users)\n",
    "\n",
    "Cada línea del archivo representa un usuario. Se incluye información demográfica. El formato es:\n",
    "\n",
    "`user id | age | gender | occupation | zip code`"
   ]
  },
  {
   "cell_type": "markdown",
   "metadata": {},
   "source": [
    "### Películas (u.item)\n",
    "\n",
    "Cada línea corresponde a una película. Puede haber inconsistencias en los nombres. El formato es:\n",
    "\n",
    "`movie id | movie title | release date | video release date | IMDb URL | generos`\n",
    "\n",
    "\n",
    "\n",
    "Las columnas con los generos son binarias indicando la presencia o ausencia de cada uno en la película. Los géneros pueden ser:\n",
    "\n",
    "* Action\n",
    "* Adventure\n",
    "* Animation\n",
    "* Children's\n",
    "* Comedy\n",
    "* Crime\n",
    "* Documentary\n",
    "* Drama\n",
    "* Fantasy\n",
    "* Film-Noir\n",
    "* Horror\n",
    "* Musical\n",
    "* Mystery\n",
    "* Romance\n",
    "* Sci-Fi\n",
    "* Thriller\n",
    "* War\n",
    "* Western\n",
    "* unknown"
   ]
  },
  {
   "cell_type": "markdown",
   "metadata": {},
   "source": [
    "## Experimentación"
   ]
  },
  {
   "cell_type": "markdown",
   "metadata": {},
   "source": [
    "Durante todo este proyecto vamos a utilizar la librería `surprise` para llevar a cabo las experimentaciones.\n",
    "\n",
    "Como se mencionó en clase, las implementaciones en esta librería tiene algunas mejoras respecto de las estrategias convencionales como SVD. Esto se traduce en una mayor cantidad de parámetros para optimizar."
   ]
  },
  {
   "cell_type": "markdown",
   "metadata": {},
   "source": [
    "Vamos a levantar los datos. En primer lugar, definamos el formato para poder leer los datos.\n",
    "\n",
    "**1) Utilizar** el `Reader` con el parámetro `line_format` igual a `'user item rating timestamp'` y `sep` como `'\\t'`. Guardarlo en una variable `reader`."
   ]
  },
  {
   "cell_type": "code",
   "execution_count": 2,
   "metadata": {},
   "outputs": [],
   "source": [
    "from surprise import Dataset\n",
    "from surprise import Reader\n",
    "import numpy as np\n",
    "import pandas as pd"
   ]
  },
  {
   "cell_type": "markdown",
   "metadata": {},
   "source": [
    "Utilizando este `reader` cargar los datos:"
   ]
  },
  {
   "cell_type": "code",
   "execution_count": 5,
   "metadata": {},
   "outputs": [],
   "source": [
    "reader = Reader(name=None, line_format='user item rating timestamp', sep='\\t', rating_scale=(1, 5), skip_lines=0)"
   ]
  },
  {
   "cell_type": "code",
   "execution_count": 6,
   "metadata": {},
   "outputs": [],
   "source": [
    "data = Dataset.load_from_file('/Users/iscoalderete/Downloads/entrega+6/dataset/ml-100k/u.data', reader=reader)"
   ]
  },
  {
   "cell_type": "markdown",
   "metadata": {},
   "source": [
    "__2) Ejecutar una corrida inicial usando cross validation y el algoritmo SVD (5 folds). Imprimir los RMSE de testing.__"
   ]
  },
  {
   "cell_type": "code",
   "execution_count": 7,
   "metadata": {},
   "outputs": [
    {
     "name": "stdout",
     "output_type": "stream",
     "text": [
      "Evaluating RMSE, MAE of algorithm SVD on 5 split(s).\n",
      "\n",
      "                  Fold 1  Fold 2  Fold 3  Fold 4  Fold 5  Mean    Std     \n",
      "RMSE (testset)    0.9321  0.9338  0.9395  0.9376  0.9399  0.9366  0.0031  \n",
      "MAE (testset)     0.7307  0.7364  0.7405  0.7411  0.7411  0.7380  0.0040  \n",
      "Fit time          4.66    4.77    4.69    4.86    4.67    4.73    0.08    \n",
      "Test time         0.12    0.18    0.19    0.14    0.14    0.15    0.03    \n"
     ]
    }
   ],
   "source": [
    "from surprise.model_selection import cross_validate\n",
    "from surprise import SVD\n",
    "\n",
    "svd = SVD(n_factors=100, n_epochs=20, random_state=42)\n",
    "cv_results = cross_validate(svd, data, measures=['RMSE', 'MAE'], cv=5, verbose=True)"
   ]
  },
  {
   "cell_type": "markdown",
   "metadata": {},
   "source": [
    "__3) Evaluar el RMSE (promedio de cross validation) de testing de acuerdo a la cantidad de factores en SVD.__"
   ]
  },
  {
   "cell_type": "code",
   "execution_count": 47,
   "metadata": {},
   "outputs": [
    {
     "name": "stdout",
     "output_type": "stream",
     "text": [
      "Evaluating RMSE, MSE of algorithm SVD on 5 split(s).\n",
      "\n",
      "                  Fold 1  Fold 2  Fold 3  Fold 4  Fold 5  Mean    Std     \n",
      "RMSE (testset)    0.9407  0.9423  0.9404  0.9422  0.9403  0.9412  0.0009  \n",
      "MSE (testset)     0.8850  0.8880  0.8844  0.8878  0.8841  0.8858  0.0017  \n",
      "Fit time          4.68    4.05    4.07    4.05    4.07    4.18    0.25    \n",
      "Test time         0.11    0.12    0.11    0.11    0.11    0.11    0.00    \n",
      "Ejecucion 1 con factor 0\n",
      "Evaluating RMSE, MSE of algorithm SVD on 5 split(s).\n",
      "\n",
      "                  Fold 1  Fold 2  Fold 3  Fold 4  Fold 5  Mean    Std     \n",
      "RMSE (testset)    0.9913  0.9820  0.9779  0.9745  0.9766  0.9805  0.0059  \n",
      "MSE (testset)     0.9826  0.9643  0.9562  0.9497  0.9538  0.9613  0.0116  \n",
      "Fit time          22.74   23.14   23.50   23.30   23.49   23.23   0.28    \n",
      "Test time         0.12    0.12    0.12    0.12    0.12    0.12    0.00    \n",
      "Ejecucion 2 con factor 100\n",
      "Evaluating RMSE, MSE of algorithm SVD on 5 split(s).\n",
      "\n",
      "                  Fold 1  Fold 2  Fold 3  Fold 4  Fold 5  Mean    Std     \n",
      "RMSE (testset)    0.9545  0.9488  0.9575  0.9416  0.9496  0.9504  0.0054  \n",
      "MSE (testset)     0.9111  0.9001  0.9167  0.8867  0.9017  0.9033  0.0103  \n",
      "Fit time          45.87   49.78   44.52   60.03   86.24   57.29   15.46   \n",
      "Test time         0.15    0.16    0.12    0.20    0.13    0.15    0.03    \n",
      "Ejecucion 3 con factor 200\n",
      "Evaluating RMSE, MSE of algorithm SVD on 5 split(s).\n",
      "\n",
      "                  Fold 1  Fold 2  Fold 3  Fold 4  Fold 5  Mean    Std     \n",
      "RMSE (testset)    0.9411  0.9400  0.9350  0.9443  0.9378  0.9396  0.0031  \n",
      "MSE (testset)     0.8856  0.8836  0.8741  0.8917  0.8795  0.8829  0.0059  \n",
      "Fit time          97.85   78.11   72.27   66.70   65.90   76.17   11.70   \n",
      "Test time         0.18    0.15    0.12    0.13    0.13    0.14    0.02    \n",
      "Ejecucion 4 con factor 300\n",
      "Evaluating RMSE, MSE of algorithm SVD on 5 split(s).\n",
      "\n",
      "                  Fold 1  Fold 2  Fold 3  Fold 4  Fold 5  Mean    Std     \n",
      "RMSE (testset)    0.9404  0.9297  0.9284  0.9371  0.9386  0.9348  0.0049  \n",
      "MSE (testset)     0.8844  0.8643  0.8619  0.8781  0.8809  0.8739  0.0091  \n",
      "Fit time          102.50  96.83   98.00   102.41  97.05   99.36   2.56    \n",
      "Test time         1.10    0.13    0.13    0.13    0.13    0.32    0.39    \n",
      "Ejecucion 5 con factor 400\n",
      "Evaluating RMSE, MSE of algorithm SVD on 5 split(s).\n",
      "\n",
      "                  Fold 1  Fold 2  Fold 3  Fold 4  Fold 5  Mean    Std     \n",
      "RMSE (testset)    0.9382  0.9349  0.9212  0.9389  0.9284  0.9323  0.0067  \n",
      "MSE (testset)     0.8803  0.8740  0.8487  0.8815  0.8618  0.8692  0.0124  \n",
      "Fit time          128.35  135.96  127.68  127.80  129.80  129.92  3.11    \n",
      "Test time         0.13    0.13    0.13    0.13    0.13    0.13    0.00    \n",
      "Ejecucion 6 con factor 500\n",
      "Evaluating RMSE, MSE of algorithm SVD on 5 split(s).\n",
      "\n",
      "                  Fold 1  Fold 2  Fold 3  Fold 4  Fold 5  Mean    Std     \n",
      "RMSE (testset)    0.9364  0.9295  0.9383  0.9284  0.9274  0.9320  0.0045  \n",
      "MSE (testset)     0.8768  0.8640  0.8804  0.8620  0.8600  0.8686  0.0083  \n",
      "Fit time          162.07  159.97  160.73  171.45  159.77  162.80  4.40    \n",
      "Test time         0.13    0.13    0.14    0.13    0.13    0.13    0.00    \n",
      "Ejecucion 7 con factor 600\n",
      "Evaluating RMSE, MSE of algorithm SVD on 5 split(s).\n",
      "\n",
      "                  Fold 1  Fold 2  Fold 3  Fold 4  Fold 5  Mean    Std     \n",
      "RMSE (testset)    0.9292  0.9323  0.9318  0.9300  0.9317  0.9310  0.0012  \n",
      "MSE (testset)     0.8635  0.8692  0.8682  0.8649  0.8680  0.8668  0.0022  \n",
      "Fit time          208.04  208.79  191.16  191.14  191.76  198.18  8.37    \n",
      "Test time         0.14    0.14    0.13    0.13    0.13    0.13    0.00    \n",
      "Ejecucion 8 con factor 700\n"
     ]
    }
   ],
   "source": [
    "# Cantidad de factores\n",
    "n_factors = [0,100,200,300,400,500,600,700]\n",
    "\n",
    "# Calculo de cambio de RMSE de acuerdo a n_factors\n",
    "svd_rmse = []\n",
    "\n",
    "for i, factor in enumerate(n_factors):\n",
    "    svd = SVD(n_factors=factor, n_epochs=100, random_state=42)\n",
    "    cv_results = cross_validate(svd, data, measures=['RMSE','MSE'], cv=5, verbose=True)\n",
    "    svd_rmse.append(cv_results['test_rmse'].mean())\n",
    "    print('Ejecucion', (i+1), 'con factor', factor)"
   ]
  },
  {
   "cell_type": "markdown",
   "metadata": {},
   "source": [
    "__4) Graficar los promedios RMSE del conjunto de testing de acuerdo a la cantidad de factores en SVD.__"
   ]
  },
  {
   "cell_type": "code",
   "execution_count": 106,
   "metadata": {},
   "outputs": [
    {
     "data": {
      "image/png": "[encoded data removed]",
      "text/plain": [
       "<Figure size 432x288 with 1 Axes>"
      ]
     },
     "metadata": {
      "needs_background": "light"
     },
     "output_type": "display_data"
    }
   ],
   "source": [
    "import matplotlib.pyplot as plt\n",
    "%matplotlib inline\n",
    "\n",
    "plt.plot(range(0,800,100), svd_rmse, label='SVD RMSE')\n",
    "plt.ylim((0.9,1))\n",
    "plt.legend(loc='best')\n",
    "plt.title('SVD RMSE')\n",
    "plt.xlabel('Number of factors')\n",
    "plt.ylabel('RMSE Testing')\n",
    "plt.show()"
   ]
  },
  {
   "cell_type": "markdown",
   "metadata": {},
   "source": [
    "__5) Usando GridSearch, encontrar el mejor estimador usando SVD con 500 factores. Imprimir el mejor rmse. Utilizar `refit` para obtener obtener el mejor estimador ya ajustado como resultado.__\n",
    "\n",
    "Utilizar el espacio de parámetros:\n",
    "* n_epochs: [5, 10]\n",
    "* lr_all: [0.002, 0.005]\n",
    "* reg_all: [0.4, 0.6]\n"
   ]
  },
  {
   "cell_type": "code",
   "execution_count": 8,
   "metadata": {},
   "outputs": [],
   "source": [
    "from surprise.model_selection import GridSearchCV\n",
    "\n",
    "params = {'n_factors': [500],\n",
    "          'n_epochs': [5, 10],\n",
    "          'lr_all': [0.002, 0.005],\n",
    "          'reg_all': [0.4, 0.6]}\n",
    "\n",
    "\n",
    "grid_search = GridSearchCV(SVD, params, cv=3, refit=True)\n",
    "grid_search.fit(data)"
   ]
  },
  {
   "cell_type": "code",
   "execution_count": 9,
   "metadata": {},
   "outputs": [
    {
     "name": "stdout",
     "output_type": "stream",
     "text": [
      "{'n_factors': 500, 'n_epochs': 10, 'lr_all': 0.005, 'reg_all': 0.4}\n"
     ]
    }
   ],
   "source": [
    "print(grid_search.best_params['rmse'])"
   ]
  },
  {
   "cell_type": "code",
   "execution_count": 10,
   "metadata": {},
   "outputs": [
    {
     "name": "stdout",
     "output_type": "stream",
     "text": [
      "0.9648410619413411\n"
     ]
    }
   ],
   "source": [
    "print(grid_search.best_score['rmse'])"
   ]
  },
  {
   "cell_type": "code",
   "execution_count": 11,
   "metadata": {},
   "outputs": [
    {
     "data": {
      "text/plain": [
       "<surprise.prediction_algorithms.matrix_factorization.SVD at 0x11de16390>"
      ]
     },
     "execution_count": 11,
     "metadata": {},
     "output_type": "execute_result"
    }
   ],
   "source": [
    "algo = grid_search.best_estimator['rmse']\n",
    "algo"
   ]
  },
  {
   "cell_type": "markdown",
   "metadata": {},
   "source": [
    "__6) Obtener una predicción para el usuario 321 para la película Titanic.__"
   ]
  },
  {
   "cell_type": "code",
   "execution_count": 12,
   "metadata": {},
   "outputs": [
    {
     "data": {
      "text/plain": [
       "<surprise.prediction_algorithms.matrix_factorization.SVD at 0x11de16390>"
      ]
     },
     "execution_count": 12,
     "metadata": {},
     "output_type": "execute_result"
    }
   ],
   "source": [
    "algo.fit(data.build_full_trainset())"
   ]
  },
  {
   "cell_type": "code",
   "execution_count": 13,
   "metadata": {},
   "outputs": [
    {
     "name": "stdout",
     "output_type": "stream",
     "text": [
      "user: 321        item: 313        r_ui = None   est = 3.98   {'was_impossible': False}\n"
     ]
    }
   ],
   "source": [
    "uid = str(321) \n",
    "iid = str(313) \n",
    "\n",
    "pred = algo.predict(uid, iid, verbose=True)"
   ]
  },
  {
   "cell_type": "markdown",
   "metadata": {},
   "source": [
    "__7) Desarrollar una función que dado un usuario, obtenga la mejor predicción disponible (de acuerdo a nuestros datos de películas).__"
   ]
  },
  {
   "cell_type": "code",
   "execution_count": 14,
   "metadata": {},
   "outputs": [],
   "source": [
    "# Primero entrenamos un algoritmo SVD en el dataset de movielens\n",
    "data = Dataset.load_builtin('ml-100k')\n",
    "trainset = data.build_full_trainset()\n",
    "algo = SVD()\n",
    "algo.fit(trainset)\n",
    "\n",
    "# Luego, predecimos ratings para todos los pares (u, i) que no estan en el trainning set\n",
    "testset = trainset.build_anti_testset()\n",
    "predictions = algo.test(testset)"
   ]
  },
  {
   "cell_type": "code",
   "execution_count": 19,
   "metadata": {},
   "outputs": [],
   "source": [
    "from collections import defaultdict\n",
    "\n",
    "def get_top_n(predictions, n, u):\n",
    "    \n",
    "    user = str(u)\n",
    "    \n",
    "    # Primero mappeamos las predicciones a cada usuario\n",
    "    top_n = defaultdict(list)\n",
    "    for uid, iid, true_r, est, _ in predictions:\n",
    "        if str(uid) == user:\n",
    "            top_n[uid].append((iid, est))\n",
    "            \n",
    "    # Luego sorteamos las predicciones para cada usuario y nos quedamos con las k mas altas\n",
    "    for uid, user_ratings in top_n.items():\n",
    "        user_ratings.sort(key=lambda x: x[1], reverse=True)\n",
    "        top_n[uid] = user_ratings[:n]\n",
    "        \n",
    "    # Printeamos el numero de usuario y su    \n",
    "    for uid, user_ratings in top_n.items():\n",
    "        print(uid, [iid for (iid, _) in user_ratings])"
   ]
  },
  {
   "cell_type": "code",
   "execution_count": 20,
   "metadata": {},
   "outputs": [
    {
     "name": "stdout",
     "output_type": "stream",
     "text": [
      "400 ['169']\n"
     ]
    }
   ],
   "source": [
    "# Ejemplo obteniendo la mejor prediccion para el usuario 400\n",
    "\n",
    "top_n = get_top_n(predictions, 1, 400)"
   ]
  }
 ],
 "metadata": {
  "kernelspec": {
   "display_name": "Python 3",
   "language": "python",
   "name": "python3"
  },
  "language_info": {
   "codemirror_mode": {
    "name": "ipython",
    "version": 3
   },
   "file_extension": ".py",
   "mimetype": "text/x-python",
   "name": "python",
   "nbconvert_exporter": "python",
   "pygments_lexer": "ipython3",
   "version": "3.7.5"
  }
 },
 "nbformat": 4,
 "nbformat_minor": 2
}
